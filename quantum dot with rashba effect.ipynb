{
 "cells": [
  {
   "cell_type": "code",
   "execution_count": 76,
   "metadata": {},
   "outputs": [],
   "source": [
    "import kwant"
   ]
  },
  {
   "cell_type": "code",
   "execution_count": 77,
   "metadata": {},
   "outputs": [],
   "source": [
    "import tinyarray\n",
    "import matplotlib.pyplot as plt"
   ]
  },
  {
   "cell_type": "code",
   "execution_count": 78,
   "metadata": {},
   "outputs": [],
   "source": [
    "sigma_0 = tinyarray.array([[1,0], [0,1]])\n",
    "sigma_x = tinyarray.array([[0,1], [1,0]])\n",
    "sigma_y = tinyarray.array([[0,-1j], [1j,0]])\n",
    "sigma_z = tinyarray.array([[1,0], [0,-1]])"
   ]
  },
  {
   "cell_type": "code",
   "execution_count": 83,
   "metadata": {},
   "outputs": [],
   "source": [
    "def make_system1(a=1, t=1, r=10, e_z = 0.08, alpha = 0.5):    # considering rashba effect\n",
    "    \n",
    "    syst= kwant.Builder()                                     # building an empty system\n",
    "    lat= kwant.lattice.square(a)\n",
    "    \n",
    "    def circle(pos):                                          # shape of  scattering region\n",
    "        x,y = pos\n",
    "        return \n",
    "            \n",
    "         \n",
    "    \n",
    "    syst[lat.shape(circle,(0,0))] = 4* t\n",
    "    \n",
    "    syst[kwant.builder.HoppingKind((1,0), lat, lat)] = -t   # add hoping \n",
    "    syst[kwant.builder.HoppingKind((0,1), lat, lat)] = -t \n",
    "    \n",
    "    lead_symm= kwant.TranslationalSymmetry((-1,0))            # define lead\n",
    "    lead2 = kwant.Builder(lead_symm)\n",
    "    lead2[(lat(0, j) for j in range (-3 , 3))] = 4* t\n",
    "    \n",
    "    lead2[kwant.builder.HoppingKind((1,0), lat, lat)] = -t     \n",
    "    lead2[kwant.builder.HoppingKind((0,1), lat, lat)] = -t \n",
    "    \n",
    "    syst.attach_lead(lead2)                                    # attach lead\n",
    "    syst.attach_lead(lead2.reversed())\n",
    "    \n",
    "    \n",
    "    lead= lead2.finalized()\n",
    "    kwant.plotter.bands(lead)\n",
    "    \n",
    "    \n",
    "    \n",
    "    return syst"
   ]
  },
  {
   "cell_type": "code",
   "execution_count": 84,
   "metadata": {},
   "outputs": [
    {
     "ename": "ValueError",
     "evalue": "No sites close to (0, 0) are inside the desired shape.",
     "output_type": "error",
     "traceback": [
      "\u001b[1;31m---------------------------------------------------------------------------\u001b[0m",
      "\u001b[1;31mValueError\u001b[0m                                Traceback (most recent call last)",
      "\u001b[1;32m<ipython-input-84-3dbaae850753>\u001b[0m in \u001b[0;36m<module>\u001b[1;34m\u001b[0m\n\u001b[1;32m----> 1\u001b[1;33m \u001b[0msyst1\u001b[0m\u001b[1;33m=\u001b[0m \u001b[0mmake_system1\u001b[0m\u001b[1;33m(\u001b[0m\u001b[1;33m)\u001b[0m\u001b[1;33m\u001b[0m\u001b[1;33m\u001b[0m\u001b[0m\n\u001b[0m\u001b[0;32m      2\u001b[0m \u001b[0mkwant\u001b[0m\u001b[1;33m.\u001b[0m\u001b[0mplot\u001b[0m\u001b[1;33m(\u001b[0m\u001b[0msyst1\u001b[0m\u001b[1;33m)\u001b[0m\u001b[1;33m;\u001b[0m\u001b[1;33m\u001b[0m\u001b[1;33m\u001b[0m\u001b[0m\n",
      "\u001b[1;32m<ipython-input-83-483e483f5f56>\u001b[0m in \u001b[0;36mmake_system1\u001b[1;34m(a, t, r, e_z, alpha)\u001b[0m\n\u001b[0;32m     10\u001b[0m \u001b[1;33m\u001b[0m\u001b[0m\n\u001b[0;32m     11\u001b[0m \u001b[1;33m\u001b[0m\u001b[0m\n\u001b[1;32m---> 12\u001b[1;33m     \u001b[0msyst\u001b[0m\u001b[1;33m[\u001b[0m\u001b[0mlat\u001b[0m\u001b[1;33m.\u001b[0m\u001b[0mshape\u001b[0m\u001b[1;33m(\u001b[0m\u001b[0mcircle\u001b[0m\u001b[1;33m,\u001b[0m\u001b[1;33m(\u001b[0m\u001b[1;36m0\u001b[0m\u001b[1;33m,\u001b[0m\u001b[1;36m0\u001b[0m\u001b[1;33m)\u001b[0m\u001b[1;33m)\u001b[0m\u001b[1;33m]\u001b[0m \u001b[1;33m=\u001b[0m \u001b[1;36m4\u001b[0m\u001b[1;33m*\u001b[0m \u001b[0mt\u001b[0m\u001b[1;33m\u001b[0m\u001b[1;33m\u001b[0m\u001b[0m\n\u001b[0m\u001b[0;32m     13\u001b[0m \u001b[1;33m\u001b[0m\u001b[0m\n\u001b[0;32m     14\u001b[0m     \u001b[0msyst\u001b[0m\u001b[1;33m[\u001b[0m\u001b[0mkwant\u001b[0m\u001b[1;33m.\u001b[0m\u001b[0mbuilder\u001b[0m\u001b[1;33m.\u001b[0m\u001b[0mHoppingKind\u001b[0m\u001b[1;33m(\u001b[0m\u001b[1;33m(\u001b[0m\u001b[1;36m1\u001b[0m\u001b[1;33m,\u001b[0m\u001b[1;36m0\u001b[0m\u001b[1;33m)\u001b[0m\u001b[1;33m,\u001b[0m \u001b[0mlat\u001b[0m\u001b[1;33m,\u001b[0m \u001b[0mlat\u001b[0m\u001b[1;33m)\u001b[0m\u001b[1;33m]\u001b[0m \u001b[1;33m=\u001b[0m \u001b[1;33m-\u001b[0m\u001b[0mt\u001b[0m   \u001b[1;31m# add hoping\u001b[0m\u001b[1;33m\u001b[0m\u001b[1;33m\u001b[0m\u001b[0m\n",
      "\u001b[1;32m~\\anaconda3\\lib\\site-packages\\kwant\\builder.py\u001b[0m in \u001b[0;36m__setitem__\u001b[1;34m(self, key, value)\u001b[0m\n\u001b[0;32m   1136\u001b[0m         \u001b[1;34m\"\"\"Set a single site/hopping or a bunch of them.\"\"\"\u001b[0m\u001b[1;33m\u001b[0m\u001b[1;33m\u001b[0m\u001b[0m\n\u001b[0;32m   1137\u001b[0m         \u001b[0mfunc\u001b[0m \u001b[1;33m=\u001b[0m \u001b[1;32mNone\u001b[0m\u001b[1;33m\u001b[0m\u001b[1;33m\u001b[0m\u001b[0m\n\u001b[1;32m-> 1138\u001b[1;33m         \u001b[1;32mfor\u001b[0m \u001b[0msh\u001b[0m \u001b[1;32min\u001b[0m \u001b[0mself\u001b[0m\u001b[1;33m.\u001b[0m\u001b[0mexpand\u001b[0m\u001b[1;33m(\u001b[0m\u001b[0mkey\u001b[0m\u001b[1;33m)\u001b[0m\u001b[1;33m:\u001b[0m\u001b[1;33m\u001b[0m\u001b[1;33m\u001b[0m\u001b[0m\n\u001b[0m\u001b[0;32m   1139\u001b[0m             \u001b[1;32mif\u001b[0m \u001b[0mfunc\u001b[0m \u001b[1;32mis\u001b[0m \u001b[1;32mNone\u001b[0m\u001b[1;33m:\u001b[0m\u001b[1;33m\u001b[0m\u001b[1;33m\u001b[0m\u001b[0m\n\u001b[0;32m   1140\u001b[0m                 func = (self._set_site if isinstance(sh, Site)\n",
      "\u001b[1;32m~\\anaconda3\\lib\\site-packages\\kwant\\builder.py\u001b[0m in \u001b[0;36mexpand\u001b[1;34m(self, key)\u001b[0m\n\u001b[0;32m   1045\u001b[0m         \u001b[0miter_stack\u001b[0m \u001b[1;33m=\u001b[0m \u001b[1;33m[\u001b[0m\u001b[1;32mNone\u001b[0m\u001b[1;33m]\u001b[0m\u001b[1;33m\u001b[0m\u001b[1;33m\u001b[0m\u001b[0m\n\u001b[0;32m   1046\u001b[0m         \u001b[1;32mwhile\u001b[0m \u001b[0miter_stack\u001b[0m\u001b[1;33m:\u001b[0m\u001b[1;33m\u001b[0m\u001b[1;33m\u001b[0m\u001b[0m\n\u001b[1;32m-> 1047\u001b[1;33m             \u001b[1;32mfor\u001b[0m \u001b[0mkey\u001b[0m \u001b[1;32min\u001b[0m \u001b[0mitr\u001b[0m\u001b[1;33m:\u001b[0m\u001b[1;33m\u001b[0m\u001b[1;33m\u001b[0m\u001b[0m\n\u001b[0m\u001b[0;32m   1048\u001b[0m                 \u001b[1;32mwhile\u001b[0m \u001b[0mcallable\u001b[0m\u001b[1;33m(\u001b[0m\u001b[0mkey\u001b[0m\u001b[1;33m)\u001b[0m\u001b[1;33m:\u001b[0m\u001b[1;33m\u001b[0m\u001b[1;33m\u001b[0m\u001b[0m\n\u001b[0;32m   1049\u001b[0m                     \u001b[0mkey\u001b[0m \u001b[1;33m=\u001b[0m \u001b[0mkey\u001b[0m\u001b[1;33m(\u001b[0m\u001b[0mself\u001b[0m\u001b[1;33m)\u001b[0m\u001b[1;33m\u001b[0m\u001b[1;33m\u001b[0m\u001b[0m\n",
      "\u001b[1;32m~\\anaconda3\\lib\\site-packages\\kwant\\lattice.py\u001b[0m in \u001b[0;36mshape_sites\u001b[1;34m(symmetry)\u001b[0m\n\u001b[0;32m    198\u001b[0m             \u001b[1;32mif\u001b[0m \u001b[1;32mnot\u001b[0m \u001b[0msites\u001b[0m\u001b[1;33m:\u001b[0m\u001b[1;33m\u001b[0m\u001b[1;33m\u001b[0m\u001b[0m\n\u001b[0;32m    199\u001b[0m                 \u001b[0mmsg\u001b[0m \u001b[1;33m=\u001b[0m \u001b[1;34m'No sites close to {0} are inside the desired shape.'\u001b[0m\u001b[1;33m\u001b[0m\u001b[1;33m\u001b[0m\u001b[0m\n\u001b[1;32m--> 200\u001b[1;33m                 \u001b[1;32mraise\u001b[0m \u001b[0mValueError\u001b[0m\u001b[1;33m(\u001b[0m\u001b[0mmsg\u001b[0m\u001b[1;33m.\u001b[0m\u001b[0mformat\u001b[0m\u001b[1;33m(\u001b[0m\u001b[0mstart\u001b[0m\u001b[1;33m)\u001b[0m\u001b[1;33m)\u001b[0m\u001b[1;33m\u001b[0m\u001b[1;33m\u001b[0m\u001b[0m\n\u001b[0m\u001b[0;32m    201\u001b[0m             \u001b[0mtags\u001b[0m \u001b[1;33m=\u001b[0m \u001b[0mset\u001b[0m\u001b[1;33m(\u001b[0m\u001b[0ms\u001b[0m\u001b[1;33m.\u001b[0m\u001b[0mtag\u001b[0m \u001b[1;32mfor\u001b[0m \u001b[0ms\u001b[0m \u001b[1;32min\u001b[0m \u001b[0msites\u001b[0m\u001b[1;33m)\u001b[0m\u001b[1;33m\u001b[0m\u001b[1;33m\u001b[0m\u001b[0m\n\u001b[0;32m    202\u001b[0m \u001b[1;33m\u001b[0m\u001b[0m\n",
      "\u001b[1;31mValueError\u001b[0m: No sites close to (0, 0) are inside the desired shape."
     ]
    }
   ],
   "source": [
    "syst1= make_system1()\n",
    "kwant.plot(syst1);"
   ]
  },
  {
   "cell_type": "code",
   "execution_count": null,
   "metadata": {},
   "outputs": [],
   "source": []
  },
  {
   "cell_type": "code",
   "execution_count": null,
   "metadata": {},
   "outputs": [],
   "source": [
    "def make_system2(a=1, t=1, r=10, e_z = 0.08, alpha = 0.5):    # considering rashba effect\n",
    "    \n",
    "    syst= kwant.Builder()                                     # building an empty system\n",
    "    lat= kwant.lattice.square(a)\n",
    "    \n",
    "    def circle(pos):                                          # shape of  scattering region\n",
    "        x,y = pos\n",
    "        return x**2 + y**2 < r**2\n",
    "    \n",
    "    syst[lat.shape(circle,(0,0))] = 4* t* sigma_0 + e_z * sigma_z\n",
    "    \n",
    "    syst[kwant.builder.HoppingKind((1,0), lat, lat)] = -t * sigma_0 + 1j* alpha* sigma_y/ 2   # add hoping \n",
    "    syst[kwant.builder.HoppingKind((0,1), lat, lat)] = -t * sigma_0 + 1j* alpha* sigma_x/ 2\n",
    "    \n",
    "    lead_symm= kwant.TranslationalSymmetry((-1,0))            # define lead\n",
    "    lead2 = kwant.Builder(lead_symm)\n",
    "    lead2[(lat(0, j) for j in range (-3 , 3))] = 4* t* sigma_0 + e_z * sigma_z\n",
    "    \n",
    "    lead2[kwant.builder.HoppingKind((1,0), lat, lat)] = -t * sigma_0 + 1j* alpha* sigma_y/ 2    \n",
    "    lead2[kwant.builder.HoppingKind((0,1), lat, lat)] = -t * sigma_0 + 1j* alpha* sigma_x/ 2\n",
    "    \n",
    "    syst.attach_lead(lead2)                                    # attach lead\n",
    "    syst.attach_lead(lead2.reversed())\n",
    "    \n",
    "    \n",
    "    lead= lead2.finalized()\n",
    "    kwant.plotter.bands(lead)\n",
    "    \n",
    "    \n",
    "    \n",
    "    return syst"
   ]
  },
  {
   "cell_type": "code",
   "execution_count": null,
   "metadata": {},
   "outputs": [],
   "source": [
    "syst2= make_system2()\n",
    "kwant.plot(syst2);"
   ]
  },
  {
   "cell_type": "code",
   "execution_count": null,
   "metadata": {},
   "outputs": [],
   "source": [
    "def plot_conductance(syst,energy):\n",
    "    energies= []\n",
    "    t_coef = []\n",
    "    for ie in range(200):\n",
    "        energy = ie * 0.01\n",
    "        scatter_matrix = kwant.smatrix(syst,energy)\n",
    "        \n",
    "        energies.append(energy)\n",
    "        t_coef.append(scatter_matrix.transmission(1,0))\n",
    "        \n",
    "    plt.figure()\n",
    "    plt.plot(energies, t_coef)\n",
    "    plt.xlabel(\"energies\")\n",
    "    plt.ylabel(\"conductance [e^2/h]\")\n",
    "    plt.title(\"conductance of quantum dot with out rashba efect\")\n",
    "    plt.show()"
   ]
  },
  {
   "cell_type": "code",
   "execution_count": null,
   "metadata": {},
   "outputs": [],
   "source": [
    "sys1= syst1.finalized()"
   ]
  },
  {
   "cell_type": "code",
   "execution_count": null,
   "metadata": {},
   "outputs": [],
   "source": [
    "plot_conductance(sys1,energy= [0.01 * ie for ie in range(200)])"
   ]
  },
  {
   "cell_type": "code",
   "execution_count": null,
   "metadata": {},
   "outputs": [],
   "source": [
    "sys2= syst2.finalized()"
   ]
  },
  {
   "cell_type": "code",
   "execution_count": null,
   "metadata": {},
   "outputs": [],
   "source": [
    "plot_conductance(sys2,energy= [0.01 * ie for ie in range(200)])"
   ]
  },
  {
   "cell_type": "code",
   "execution_count": null,
   "metadata": {},
   "outputs": [],
   "source": []
  }
 ],
 "metadata": {
  "kernelspec": {
   "display_name": "Python 3",
   "language": "python",
   "name": "python3"
  },
  "language_info": {
   "codemirror_mode": {
    "name": "ipython",
    "version": 3
   },
   "file_extension": ".py",
   "mimetype": "text/x-python",
   "name": "python",
   "nbconvert_exporter": "python",
   "pygments_lexer": "ipython3",
   "version": "3.8.5"
  }
 },
 "nbformat": 4,
 "nbformat_minor": 4
}
